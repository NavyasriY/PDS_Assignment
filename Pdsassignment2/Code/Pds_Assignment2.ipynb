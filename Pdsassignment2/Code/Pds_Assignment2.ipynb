{
  "nbformat": 4,
  "nbformat_minor": 0,
  "metadata": {
    "colab": {
      "private_outputs": true,
      "provenance": []
    },
    "kernelspec": {
      "name": "python3",
      "display_name": "Python 3"
    },
    "language_info": {
      "name": "python"
    }
  },
  "cells": [
    {
      "cell_type": "code",
      "execution_count": null,
      "metadata": {
        "id": "EfFB063nLY-S"
      },
      "outputs": [],
      "source": [
        "import pandas as pd\n",
        "import re"
      ]
    },
    {
      "cell_type": "code",
      "source": [
        "#Question a\n",
        "#uploading the data set in collab and reading the data from it.\n",
        "data1=pd.read_csv(\"/content/train.csv\")"
      ],
      "metadata": {
        "id": "DZSFo2eoe188"
      },
      "execution_count": null,
      "outputs": []
    },
    {
      "cell_type": "code",
      "source": [
        "#deleting all the missing values\n",
        "data1.dropna()\n",
        "data1.dropna(subset=['New_Price'], inplace=True)\n",
        "data1.dropna(subset=['Mileage'], inplace=True)\n",
        "data1.dropna(subset=['Power'], inplace=True)\n",
        "data_dropped=data1"
      ],
      "metadata": {
        "id": "TjS6mLFcmUFc"
      },
      "execution_count": null,
      "outputs": []
    },
    {
      "cell_type": "code",
      "source": [
        "#checking if there are any missing values\n",
        "data_dropped.isnull().sum()"
      ],
      "metadata": {
        "id": "vAnPylx0mpt0"
      },
      "execution_count": null,
      "outputs": []
    },
    {
      "cell_type": "code",
      "source": [
        "#Question b\n",
        "# We can read either the original data or the data used for question a.\n",
        "#I am just using the data that is used for question a\n",
        "\n",
        "# Entering the columns where it needs to remove strings\n",
        "columns_needed = [\"Mileage\", \"Engine\", \"Power\", \"New_Price\"]\n",
        "\n",
        "# Creating a function to remove units and convert it into numeric values\n",
        "def removeandconvert(column):\n",
        "    # Convert the column to strings and use regular expressions to extract numerical values\n",
        "    return pd.to_numeric(data_dropped[column].astype(str).str.replace('[^\\d.]', ''), errors='coerce')\n",
        "\n",
        "# Now Applying the function to each column in the list\n",
        "for column in columns_needed:\n",
        "    data_dropped[column] = removeandconvert(column)\n",
        "\n",
        "# Now the specified columns have only numerical values without units\n",
        "data_dropped"
      ],
      "metadata": {
        "id": "3lVZFwTznhqW"
      },
      "execution_count": null,
      "outputs": []
    },
    {
      "cell_type": "code",
      "source": [
        "categorical_data = pd.get_dummies(data_dropped, columns=['Fuel_Type', 'Transmission'])\n",
        "categorical_data"
      ],
      "metadata": {
        "id": "OX-BOZEaLkOi"
      },
      "execution_count": null,
      "outputs": []
    },
    {
      "cell_type": "code",
      "source": [
        "\n",
        "from sklearn.preprocessing import OneHotEncoder\n",
        "\n",
        "data3 = pd.DataFrame(data_dropped)\n",
        "# Extract the categorical columns\n",
        "categorical_columns = ['Fuel_Type', 'Transmission']\n",
        "\n",
        "# Initializing the OneHotEncoder\n",
        "encoder = OneHotEncoder(sparse=False, drop='first')\n",
        "encoded_data = encoder.fit_transform(data3[categorical_columns])\n",
        "\n",
        "# Create a DataFrame with the one-hot encoded values and appropriate column names\n",
        "encoded_df = pd.DataFrame(encoded_data, columns=encoder.get_feature_names_out(categorical_columns))\n",
        "\n",
        "# Drop the original categorical columns from the DataFrame\n",
        "data3= data3.drop(columns=categorical_columns)\n",
        "# Concatenate the encoded DataFrame with the original DataFrame\n",
        "data3 = pd.concat([data3, encoded_df], axis=1)\n",
        "data3\n"
      ],
      "metadata": {
        "id": "KbrJ0aUzPHHq"
      },
      "execution_count": null,
      "outputs": []
    },
    {
      "cell_type": "code",
      "source": [
        "#Question 4\n",
        "\n",
        "#Here i am considering the first data.\n",
        "data1['Price increased'] = data1['New_Price'] - data1['Price']\n",
        "data1"
      ],
      "metadata": {
        "id": "2CiK55-uxeWr"
      },
      "execution_count": null,
      "outputs": []
    },
    {
      "cell_type": "code",
      "source": [
        "print(data1.dtypes)"
      ],
      "metadata": {
        "id": "6hhN7bhNzTkT"
      },
      "execution_count": null,
      "outputs": []
    }
  ]
}