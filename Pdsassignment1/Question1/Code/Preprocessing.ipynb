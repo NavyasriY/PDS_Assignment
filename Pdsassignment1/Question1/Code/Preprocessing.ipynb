{
  "nbformat": 4,
  "nbformat_minor": 0,
  "metadata": {
    "colab": {
      "private_outputs": true,
      "provenance": [],
      "toc_visible": true
    },
    "kernelspec": {
      "name": "python3",
      "display_name": "Python 3"
    },
    "language_info": {
      "name": "python"
    }
  },
  "cells": [
    {
      "cell_type": "code",
      "execution_count": null,
      "metadata": {
        "id": "7M0zDcOpeFOC"
      },
      "outputs": [],
      "source": [
        "import pandas as pd"
      ]
    },
    {
      "cell_type": "code",
      "source": [
        "#uploading the file in collab and then reading it.\n",
        "raw_data=pd.read_csv('/content/Frailty_data.csv')"
      ],
      "metadata": {
        "id": "TXjO3SD7mAuU"
      },
      "execution_count": null,
      "outputs": []
    },
    {
      "cell_type": "code",
      "source": [
        "#printing raw data\n",
        "raw_data"
      ],
      "metadata": {
        "id": "KOIJdsiRmGp1"
      },
      "execution_count": null,
      "outputs": []
    },
    {
      "cell_type": "code",
      "source": [
        "#updating the column names in order to relate units of measure\n",
        "raw_data.columns=['Height(in)', 'Weight(lb)', 'Age', 'Grip_strength(kg)','Frailty']\n",
        "raw_data.columns\n",
        "# Changing the categorical values into numeric values\n",
        "raw_data['Frailty'].replace(['Y', 'N'],\n",
        "                        [0, 1], inplace=True)"
      ],
      "metadata": {
        "id": "U0iQvDVzpb2F"
      },
      "execution_count": null,
      "outputs": []
    },
    {
      "cell_type": "code",
      "source": [
        "#Removing the rows ifthere are any na occurances\n",
        "clean_data=raw_data.dropna()\n",
        "clean_data"
      ],
      "metadata": {
        "id": "ifXrR_bRppTY"
      },
      "execution_count": null,
      "outputs": []
    },
    {
      "cell_type": "code",
      "source": [
        "#Saving the clean data into the csv file in collab and then downloading it.\n",
        "clean_data.to_csv('/content/clean_data.csv')\n",
        "print('successfully saved the data')"
      ],
      "metadata": {
        "id": "TCsuSBkdqByO"
      },
      "execution_count": null,
      "outputs": []
    }
  ]
}