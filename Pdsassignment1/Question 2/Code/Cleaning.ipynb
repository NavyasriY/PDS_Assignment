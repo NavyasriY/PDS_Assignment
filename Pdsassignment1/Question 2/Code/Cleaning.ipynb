{
  "nbformat": 4,
  "nbformat_minor": 0,
  "metadata": {
    "colab": {
      "private_outputs": true,
      "provenance": []
    },
    "kernelspec": {
      "name": "python3",
      "display_name": "Python 3"
    },
    "language_info": {
      "name": "python"
    }
  },
  "cells": [
    {
      "cell_type": "code",
      "execution_count": null,
      "metadata": {
        "id": "StGiQOcfA_XU"
      },
      "outputs": [],
      "source": [
        "import pandas as pd"
      ]
    },
    {
      "cell_type": "code",
      "source": [
        "#uploading the data file in collab and reading the file\n",
        "raw_data=pd.read_csv('/content/StudentsPerformance.csv')\n",
        "raw_data"
      ],
      "metadata": {
        "id": "3i1umqaUBFYF"
      },
      "execution_count": null,
      "outputs": []
    },
    {
      "cell_type": "code",
      "source": [
        "#Preprocessing the data to perform the analysis\n",
        "# Changing the categorical values into numerical class values\n",
        "raw_data['gender'].replace(['female', 'male'],\n",
        "                        [0, 1], inplace=True)\n",
        "raw_data['test preparation course'].replace(['none', 'completed'],\n",
        "                        [0, 1], inplace=True)\n",
        "\n",
        "#Creating a new column total score\n",
        "raw_data['Total score'] = raw_data['math score'] + raw_data['writing score'] + raw_data['reading score']\n",
        "raw_data"
      ],
      "metadata": {
        "id": "JP6_lIISBiVx"
      },
      "execution_count": null,
      "outputs": []
    },
    {
      "cell_type": "code",
      "source": [
        "#dropping of the rows if na occurances\n",
        "clean_data=raw_data.dropna()\n",
        "clean_data\n",
        "#Saving the clean data into the csv file\n",
        "clean_data.to_csv('/content/clean_data.csv')\n",
        "print('successfully saved the data')"
      ],
      "metadata": {
        "id": "1PdXfTEBB1qM"
      },
      "execution_count": null,
      "outputs": []
    },
    {
      "cell_type": "code",
      "source": [],
      "metadata": {
        "id": "b5RCl4yaBKl9"
      },
      "execution_count": null,
      "outputs": []
    }
  ]
}