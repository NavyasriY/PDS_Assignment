{
  "nbformat": 4,
  "nbformat_minor": 0,
  "metadata": {
    "colab": {
      "private_outputs": true,
      "provenance": []
    },
    "kernelspec": {
      "name": "python3",
      "display_name": "Python 3"
    },
    "language_info": {
      "name": "python"
    }
  },
  "cells": [
    {
      "cell_type": "code",
      "execution_count": null,
      "metadata": {
        "id": "iMp_hkTeh83Q"
      },
      "outputs": [],
      "source": [
        "import pandas as pd\n",
        "import numpy as np\n",
        "import matplotlib.pyplot as plt\n",
        "import seaborn as sns"
      ]
    },
    {
      "cell_type": "code",
      "source": [
        "raw_data=pd.read_csv('/content/diabetes.csv')"
      ],
      "metadata": {
        "id": "XBDcQQITjkRP"
      },
      "execution_count": null,
      "outputs": []
    },
    {
      "cell_type": "code",
      "source": [
        "np.random.seed(2121)"
      ],
      "metadata": {
        "id": "o1A5vMizkpkc"
      },
      "execution_count": null,
      "outputs": []
    },
    {
      "cell_type": "code",
      "source": [
        "# Here i have taken a random sample of 25 observations from population dataframe\n",
        "sample_data_size = 25\n",
        "sample_dataframe = raw_data.sample(n=sample_data_size)"
      ],
      "metadata": {
        "id": "pj73yn0xO6GH"
      },
      "execution_count": null,
      "outputs": []
    },
    {
      "cell_type": "code",
      "source": [
        "#Here i am printing the sample dataframe\n",
        "sample_dataframe\n",
        "sample_dataframe.shape"
      ],
      "metadata": {
        "id": "LT2cbs1hO8lr"
      },
      "execution_count": null,
      "outputs": []
    },
    {
      "cell_type": "code",
      "source": [
        "#calculating the mean Glucose and highest Glucose values of this sample\n",
        "\n",
        "sample_mean_glucose_value = sample_dataframe['Glucose'].mean()\n",
        "sample_max_glucose_value = sample_dataframe['Glucose'].max()\n",
        "print('Sample mean value is : ' , sample_mean_glucose_value)\n",
        "print('Sample highest value is : ',  sample_max_glucose_value )"
      ],
      "metadata": {
        "id": "HGL50yrDQZBB"
      },
      "execution_count": null,
      "outputs": []
    },
    {
      "cell_type": "code",
      "source": [
        "#calculating the mean Glucose and highest Glucose values of actual population\n",
        "\n",
        "population_mean_glucose_value = raw_data['Glucose'].mean()\n",
        "population_max_glucose_value = raw_data['Glucose'].max()\n",
        "\n",
        "print('Population of mean value is : ' , population_mean_glucose_value)\n",
        "print('Population highest value is : ',  population_max_glucose_value )"
      ],
      "metadata": {
        "id": "W8Xug57UQjnR"
      },
      "execution_count": null,
      "outputs": []
    },
    {
      "cell_type": "code",
      "source": [
        "#Comparison of both the sample and population statistic values using the charts\n",
        "#creating the data variables to plot on chart\n",
        "x_values = ['Sample Mean','Population Mean','Sample Max', 'Population Max']\n",
        "y_values = [sample_mean_glucose_value,population_mean_glucose_value,sample_max_glucose_value,population_max_glucose_value]\n",
        "# Set the colors for the bars\n",
        "colors = ['blue', 'blue', 'green', 'green']\n",
        "#creating the barplot to represent the data\n",
        "sns.barplot(x=x_values, y=y_values,palette=colors)\n",
        "plt.xlabel('Statistics')\n",
        "plt.ylabel('Glucose level')\n",
        "plt.title('Comparison of the Mean & Max  Statistics of Glucose (Sample vs. Population)')\n",
        "plt.show()"
      ],
      "metadata": {
        "id": "kwheN6neQth2"
      },
      "execution_count": null,
      "outputs": []
    },
    {
      "cell_type": "code",
      "source": [
        "# b question . In this question i am considering the same seed value.\n",
        "samplebmi_98thpercentile = np.percentile(sample_dataframe['BMI'], 98)\n",
        "populationbmi_98thpercentile = np.percentile(raw_data['BMI'], 98)\n",
        "#printing the 98th percentile of BMi values\n",
        "print(\"The 98th percentile of BMI value of sampledata is : \", samplebmi_98thpercentile )\n",
        "print(\"The 98th percentile of BMI value of populationdata is : \", populationbmi_98thpercentile )"
      ],
      "metadata": {
        "id": "yhcIrmMvUClQ"
      },
      "execution_count": null,
      "outputs": []
    },
    {
      "cell_type": "code",
      "source": [
        "# Seting the style for the plot\n",
        "sns.set_style('whitegrid')\n",
        "# Creating a histogram of the BMI values for the sample\n",
        "sns.histplot(sample_dataframe, x='BMI', element='step', color='red', label='Sample')\n",
        "# Creating a histogram of the BMI values for the population\n",
        "sns.histplot(raw_data, x='BMI', element='step', color='pink', label='Population')\n",
        "# Adding the  vertical lines at 98th percentile value of BMI\n",
        "plt.axvline(samplebmi_98thpercentile, color='red', linestyle='-', label='Sample 98th Percentile')\n",
        "plt.axvline(populationbmi_98thpercentile, color='pink',linestyle='-', label='Population 98th Percentile')\n",
        "# Add labels and title to the plot\n",
        "plt.xlabel('BMI value')\n",
        "plt.ylabel('Count')\n",
        "plt.title('BMI Distribution of Sample vs. Population (with 98th Percentile)' )\n",
        "# Add a legend to the plot\n",
        "plt.legend(loc='upper right')\n",
        "plt.show()"
      ],
      "metadata": {
        "id": "rISZE_B3Ugrj"
      },
      "execution_count": null,
      "outputs": []
    },
    {
      "cell_type": "code",
      "source": [
        "#c question.\n",
        "#Here i am calculating mean,standard deviation, percentile for BP.\n",
        "bp_mean = raw_data['BloodPressure'].mean()\n",
        "bp_std = raw_data['BloodPressure'].std()\n",
        "bp_percentile = raw_data['BloodPressure'].quantile([0.5,0.75,0.90])\n",
        "\n",
        "print('BloodPressure statistics in the population data:')\n",
        "print(f'Mean: {bp_mean:.2f}')\n",
        "print(f'Standard deviation: {bp_std:.2f}')\n",
        "print(f'50th , 75th & 95th percentiles: {bp_percentile[0.50],bp_percentile[0.75],bp_percentile[0.90]}')"
      ],
      "metadata": {
        "id": "jVV0oCDwV1RA"
      },
      "execution_count": null,
      "outputs": []
    },
    {
      "cell_type": "code",
      "source": [
        "#Generating the bootstrap samples\n",
        "#creating an empty array's to store the bootstrap samples statistic values\n",
        "bloodpressure_mean_bootstrap = np.empty(500)\n",
        "bloodpressure_sd_bootstrap = np.empty(500)\n",
        "bloodpressure_percentile_bootstrap = np.empty((3, 500))\n",
        "n_bootstrap_samples = 500\n",
        "n_obs_per_bootstrap_sample = 150\n",
        "for i in range(n_bootstrap_samples):\n",
        "    sample_data_i = np.random.choice(raw_data['BloodPressure'], size=n_obs_per_bootstrap_sample, replace=True)\n",
        "    bloodpressure_mean_bootstrap[i] = np.mean(sample_data_i)\n",
        "    bloodpressure_sd_bootstrap[i] = np.std(sample_data_i)\n",
        "    bloodpressure_percentile_bootstrap[:, i] = np.quantile(sample_data_i, [0.5, 0.75, 0.90])\n",
        "# Seting the style for the plot\n",
        "sns.set_style('whitegrid')\n",
        "\n",
        "# Creating a histogram of the mean of bootstrap samples blood pressure values\n",
        "sns.histplot(bloodpressure_mean_bootstrap, element='step', color='pink', label='Bootstrap samples mean')\n",
        "# Adding the vertical lines at the mean of means of bootstrap samples and population mean\n",
        "plt.axvline(np.mean(bloodpressure_mean_bootstrap), color='yellow', linestyle='--', label='BootStrap mean')\n",
        "plt.axvline(bp_mean, color='black',linestyle='--', label='population mean')\n",
        "\n",
        "# Add labels and title to the plot\n",
        "plt.xlabel('Blood Pressure')\n",
        "plt.ylabel('Count')\n",
        "plt.title('Blood Pressure Distribution among bootstrap sample mean vs. Population mean ' )\n",
        "\n",
        "# Add a legend to the plot\n",
        "plt.legend(loc='upper right')\n",
        "plt.show()\n"
      ],
      "metadata": {
        "id": "62K_CpYrXlGI"
      },
      "execution_count": null,
      "outputs": []
    },
    {
      "cell_type": "code",
      "source": [
        "#Comparing the bootstrap means with the population sd\n",
        "# Seting the style for the plot\n",
        "sns.set_style('whitegrid')\n",
        "# Create a histogram of the sd of bootstrap samples blood pressure values\n",
        "sns.histplot(bloodpressure_sd_bootstrap, element='step', color='pink', label='Bootstrap samples sd')\n",
        "# Add vertical lines at the mean of means of bootstrap samples and population mean\n",
        "plt.axvline(np.mean(bloodpressure_sd_bootstrap), color='red', linestyle='--', label='BootStrap sd')\n",
        "plt.axvline(bp_std, color='blue',linestyle='--', label='population sd')\n",
        "# Adding the labels and title to the plot\n",
        "plt.xlabel('Blood Pressure')\n",
        "plt.ylabel('Count')\n",
        "plt.title('BP Distribution of bootstrap samples SD vs. Population SD' )\n",
        "\n",
        "# Add a legend to the plot\n",
        "plt.legend(loc='upper right')\n",
        "plt.show()"
      ],
      "metadata": {
        "id": "Rzci5cbHY0fR"
      },
      "execution_count": null,
      "outputs": []
    },
    {
      "cell_type": "code",
      "source": [
        "#comparing the percentiles of the bootstrap samples and population\n",
        "#calculating 75th percentile\n",
        "plt.subplot(1, 3, 2)\n",
        "sns.barplot(x=['Bootstrap Sample ', 'Population '], y=[np.mean(bloodpressure_percentile_bootstrap[1,]), bp_percentile[0.75]], color='blue')\n",
        "plt.ylabel('75th Percentile of BP')\n",
        "#calculating the 90th percentile\n",
        "plt.subplot(1, 3, 1)\n",
        "sns.barplot(x=['Bootstrap Sample ', 'Population'], y=[np.mean(bloodpressure_percentile_bootstrap[2,]), bp_percentile[0.9]], color='black')\n",
        "plt.ylabel('90th Percentile of BP')\n",
        "plt.title('Comparing 75th & 90th Percentile of BP: Bootstrap Samples vs Population')\n",
        "plt.show()\n",
        "\n"
      ],
      "metadata": {
        "id": "ot37TfwoZe3p"
      },
      "execution_count": null,
      "outputs": []
    }
  ]
}